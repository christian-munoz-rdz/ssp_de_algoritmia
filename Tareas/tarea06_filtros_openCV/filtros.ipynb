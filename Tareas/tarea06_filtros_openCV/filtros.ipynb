{
  "nbformat": 4,
  "nbformat_minor": 0,
  "metadata": {
    "colab": {
      "provenance": [],
      "collapsed_sections": []
    },
    "kernelspec": {
      "name": "python3",
      "display_name": "Python 3"
    },
    "language_info": {
      "name": "python"
    }
  },
  "cells": [
    {
      "cell_type": "code",
      "source": [
        "import cv2 as cv\n",
        "import numpy as np\n",
        "from google.colab.patches import cv2_imshow #Google colab no acepta la funcion imshow original\n",
        "\n",
        "#Cargamos la imagen original\n",
        "path = './original.jpg'\n",
        "original = cv.imread(path,0)\n",
        "\n",
        "#Redimensionamos la imagen\n",
        "rows,columns = np.shape(original)\n",
        "rows //= 2\n",
        "columns //= 2\n",
        "source = cv.resize(original,(columns,rows),interpolation=cv.INTER_NEAREST)\n",
        "\n",
        "#Mostramos la imagen\n",
        "print(source.shape)\n",
        "cv2_imshow(source)\n",
        "\n",
        "#Parametros para el filtro guassiano\n",
        "rows,columns = np.shape(source)\n",
        "n = 7\n",
        "gaussian_filter = np.ones((n,n))/50\n",
        "gaussian_img = source.copy()\n",
        "\n",
        "#Aplicacion del filtro gaussiano\n",
        "for i in range(n//2,columns-(n-1)):\n",
        "    for j in range(n//2,rows-(n-1)):\n",
        "        current_arr = source[j:j+n,i:i+n]\n",
        "        gaussian_img[j,i] = np.sum(current_arr*gaussian_filter)\n",
        "\n",
        "#Mostramos la imagen con filtro gaussiano\n",
        "cv2_imshow(gaussian_img)\n",
        "\n",
        "#Parametros para el filtro de sobel en Y\n",
        "sobel_img_y = source.copy()\n",
        "sobel_filter_y = np.array([[-1, 0, 1], \n",
        "                         [-2, 0, 2], \n",
        "                         [-1, 0, 1]])\n",
        "\n",
        "#Aplicamos filtro de sobel en Y\n",
        "for i in range(1,columns-2):\n",
        "    for j in range(1,rows-2):\n",
        "        current_arr = gaussian_img[j:j+3,i:i+3]\n",
        "        sobel_img_y[j,i] = np.sum(current_arr*sobel_filter_y)\n",
        "\n",
        "#Mostramos la imagen con filtro de Sobel en Y\n",
        "cv2_imshow(sobel_img_y)\n",
        "\n",
        "#Parametros para el filtro de sobel en X\n",
        "sobel_img_x = source.copy()\n",
        "sobel_filter_x = np.array([[1, 2, 1], \n",
        "                         [0, 0, 0], \n",
        "                         [-1, -2, -1]])\n",
        "\n",
        "#Aplicamos filtro de sobel en x\n",
        "for i in range(1,columns-2):\n",
        "    for j in range(1,rows-2):\n",
        "        current_arr = gaussian_img[j:j+3,i:i+3]\n",
        "        sobel_img_x[j,i] = np.sum(current_arr*sobel_filter_x)\n",
        "\n",
        "#Mostramos la imagen con filtro de Sobel en X\n",
        "cv2_imshow(sobel_img_x)\n",
        "\n",
        "#Obtenemos la imagen final con el filtro de sobel\n",
        "sobel_xy = np.sqrt((sobel_img_x**2+sobel_img_y**2))*2 #Le agregugué intensidad a los pixeles para que no se viera tan oscura\n",
        "\n",
        "#Mostramos la imagen con el filtro de sobel final\n",
        "cv2_imshow(sobel_xy)"
      ],
      "metadata": {
        "id": "b4W83qwYZxL-"
      },
      "execution_count": null,
      "outputs": []
    }
  ]
}