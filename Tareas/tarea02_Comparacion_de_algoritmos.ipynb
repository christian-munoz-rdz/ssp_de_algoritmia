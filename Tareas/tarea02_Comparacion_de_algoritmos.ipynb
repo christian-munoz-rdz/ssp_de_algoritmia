{
  "cells": [
    {
      "cell_type": "code",
      "execution_count": null,
      "metadata": {
        "id": "SCvSgwJjgEMC"
      },
      "outputs": [],
      "source": [
        "import numpy as np\n",
        "import matplotlib.pyplot as plt\n",
        "import time\n",
        "import random\n",
        "import matplotlib.animation as manimation"
      ]
    },
    {
      "cell_type": "code",
      "execution_count": null,
      "metadata": {
        "id": "dkgwjQ4PmRb0"
      },
      "outputs": [],
      "source": [
        "#BubbleSort\n",
        "def bubbleSort(arr):\n",
        "\n",
        "\tglobal steps_bubble\n",
        "\t\n",
        "\tn = len(arr)\n",
        "\tswapped = False\n",
        "\tarr_b = list(arr)\n",
        "\t\n",
        "\tfor i in range(n-1):\n",
        "\t\tfor j in range(0,n-i-1):\n",
        "\t\t\tif arr_b[j] > arr_b[j+1]:\n",
        "\t\t\t\tswapped = True\n",
        "\t\t\t\tarr_b[j] , arr_b[j+1] = arr_b[j+1], arr_b[j]\n",
        "\t\t\t\tsteps_bubble += 1\n",
        "\t\tif not swapped:\n",
        "\t\t\tbreak\n",
        "\treturn arr_b\n",
        "\n",
        "#QucikSort\n",
        "def quicksort(arr):\n",
        "\n",
        "  global steps_quick\n",
        "\n",
        "  if len(arr) < 2:\n",
        "    return arr \n",
        "  else:\n",
        "    pivot = arr[0]\n",
        "    left = [i for i in arr[1:] if i <= pivot]\n",
        "    right = [i for i in arr[1:] if i > pivot]\n",
        "    steps_quick += 1\n",
        "    return quicksort(left) + [pivot] + quicksort(right)\n"
      ]
    },
    {
      "cell_type": "code",
      "execution_count": null,
      "metadata": {
        "id": "UXOk5MO_gN68"
      },
      "outputs": [],
      "source": [
        "elementNumArray=np.arange(1,100)\n",
        "bubble_steps = []\n",
        "quick_steps= []\n",
        "\n",
        "FFMpegWriter = manimation.writers['ffmpeg']\n",
        "\n",
        "metadata = dict(title='Bubble sort vs Quicksort', artist='Christian Muñoz',comment='Ke divertido es graficar')\n",
        "writer = FFMpegWriter(fps=24, metadata=metadata)\n",
        "\n",
        "fig, (ax1, ax2) = plt.subplots(1, 2,figsize=(18,9))\n",
        "ax1.title.set_text('Bubble Sort')\n",
        "ax2.title.set_text('Quick Sort')\n",
        "ax1.set_ylabel(\"Pasos\")\n",
        "ax1.set_xlabel(\"# Elementos\")\n",
        "ax2.set_xlabel(\"# Elementos\")\n",
        "               \n",
        "with writer.saving(fig, \"BubbleSortVsQuickSort.mp4\", 100):\n",
        "\n",
        "  plt.ion()\n",
        "  for idx,elementNum in enumerate(elementNumArray):\n",
        "\n",
        "    lista=[random.randint(1,1000) for i in range(elementNum)]\n",
        "    steps_bubble = 0\n",
        "    steps_quick = 0\n",
        "          \n",
        "    sorted_bubble = bubbleSort(lista)    \n",
        "    bubble_steps.append(steps_bubble)\n",
        "          \n",
        "    sorted_quick = quicksort(lista) \n",
        "    quick_steps.append(steps_quick)\n",
        "    \n",
        "    ax1.plot(elementNumArray[:idx+1], bubble_steps , 'r',label='Burbuja')\n",
        "    ax2.plot(elementNumArray[:idx+1], quick_steps , 'b',label='Quick')\n",
        "\n",
        "    fig.canvas.draw()\n",
        "    fig.canvas.flush_events()\n",
        "    plt.show(block=False)\n",
        "    time.sleep(0.1)\n",
        "    for i in range(24):\n",
        "      writer.grab_frame()\n",
        "  "
      ]
    },
    {
      "cell_type": "code",
      "execution_count": null,
      "metadata": {
        "id": "jmCLskKd_gAZ"
      },
      "outputs": [],
      "source": []
    }
  ],
  "metadata": {
    "colab": {
      "collapsed_sections": [],
      "provenance": []
    },
    "kernelspec": {
      "display_name": "Python 3.9.12 64-bit",
      "language": "python",
      "name": "python3"
    },
    "language_info": {
      "name": "python",
      "version": "3.9.12"
    },
    "vscode": {
      "interpreter": {
        "hash": "7e1cabc44b19fa5ac4d5af1665f3b1b9f50187edb6637db2fcb78775a2f092fb"
      }
    }
  },
  "nbformat": 4,
  "nbformat_minor": 0
}
